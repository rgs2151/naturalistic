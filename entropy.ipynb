{
 "cells": [
  {
   "cell_type": "code",
   "execution_count": null,
   "id": "3c48681b",
   "metadata": {},
   "outputs": [],
   "source": [
    "from utils import *\n",
    "from measures import *\n",
    "\n",
    "import pickle\n",
    "from tqdm import tqdm\n",
    "import pandas as pd\n",
    "import numpy as np\n",
    "from matplotlib import pyplot as plt"
   ]
  },
  {
   "cell_type": "code",
   "execution_count": null,
   "id": "f17fd634",
   "metadata": {},
   "outputs": [
    {
     "data": {
      "text/plain": [
       "(14664, 480, 720, 3)"
      ]
     },
     "execution_count": 2,
     "metadata": {},
     "output_type": "execute_result"
    }
   ],
   "source": [
    "frames = load_video_frames(\"bin/bangbangyouredead_v4-1.mp4\")\n",
    "frames.shape"
   ]
  },
  {
   "cell_type": "code",
   "execution_count": 3,
   "id": "c725f6fa",
   "metadata": {},
   "outputs": [
    {
     "data": {
      "text/plain": [
       "True"
      ]
     },
     "execution_count": 3,
     "metadata": {},
     "output_type": "execute_result"
    }
   ],
   "source": [
    "# This proves that video is actually black and white\n",
    "np.all(frames[0,:,:,0] == frames[0,:,:,2])"
   ]
  },
  {
   "cell_type": "code",
   "execution_count": null,
   "id": "7da04f67",
   "metadata": {},
   "outputs": [
    {
     "name": "stderr",
     "output_type": "stream",
     "text": [
      "sum_abs: 100%|██████████| 14663/14663 [00:04<00:00, 3544.84it/s]\n",
      "l1: 100%|██████████| 14663/14663 [00:04<00:00, 3503.97it/s]\n",
      "l2: 100%|██████████| 14663/14663 [00:03<00:00, 4198.31it/s]\n",
      "ssim:  69%|██████▉   | 10170/14663 [03:00<01:19, 56.79it/s]/home/nuttidalab/miniconda3/envs/rudra_pl/lib/python3.12/site-packages/skimage/metrics/_structural_similarity.py:269: RuntimeWarning: invalid value encountered in divide\n",
      "  S = (A1 * A2) / D\n",
      "ssim: 100%|██████████| 14663/14663 [04:20<00:00, 56.40it/s]\n",
      "histogram_diff: 100%|██████████| 14663/14663 [00:45<00:00, 319.79it/s]\n",
      "wasserstein:  51%|█████     | 7510/14663 [09:00<08:05, 14.72it/s]"
     ]
    }
   ],
   "source": [
    "# Organizing our metrics and stores\n",
    "measures = {}\n",
    "metrics = [sum_abs, l1, l2, ssim, \n",
    "           histogram_diff, wasserstein,\n",
    "           correlation, cosine]\n",
    "\n",
    "# Making measurements\n",
    "for method in metrics:\n",
    "    key = method.__name__\n",
    "    measures[key] = []\n",
    "    for i in tqdm(range(len(frames) - 1), desc=key):\n",
    "        frame_1 = frames[..., 0][i]\n",
    "        frame_2 = frames[..., 0][i+1]\n",
    "        measures[key].append(method(frame_1, frame_2))"
   ]
  },
  {
   "cell_type": "code",
   "execution_count": null,
   "id": "e5c7177d",
   "metadata": {},
   "outputs": [],
   "source": [
    "with open(\"bin/measures.pkl\", \"wb\") as f:\n",
    "    pickle.dump(measures, f)"
   ]
  },
  {
   "cell_type": "code",
   "execution_count": null,
   "id": "915ee173",
   "metadata": {},
   "outputs": [],
   "source": [
    "df = pd.DataFrame(measures)\n",
    "\n",
    "fig, axs = plt.subplots(\n",
    "    len(df.columns), \n",
    "    1, \n",
    "    figsize=(12, 2*len(df.columns)), \n",
    "    sharex=True, \n",
    "    dpi=300\n",
    ")\n",
    "\n",
    "for i, key in enumerate(df.columns):\n",
    "    axs[i].plot(df[key], \"k-\", alpha=0.5)\n",
    "    axs[i].set_ylabel(key, weight=\"bold\")\n",
    "    axs[i].set_yticks([])\n",
    "    \n",
    "axs[-1].set_xlabel(\"Frame\")\n",
    "\n",
    "plt.tight_layout()\n",
    "plt.show()"
   ]
  },
  {
   "cell_type": "code",
   "execution_count": null,
   "id": "a4ca54ed",
   "metadata": {},
   "outputs": [],
   "source": []
  },
  {
   "cell_type": "code",
   "execution_count": null,
   "id": "eea6e577",
   "metadata": {},
   "outputs": [],
   "source": []
  },
  {
   "cell_type": "code",
   "execution_count": null,
   "id": "3ec7e303",
   "metadata": {},
   "outputs": [],
   "source": []
  },
  {
   "cell_type": "code",
   "execution_count": null,
   "id": "23da6544",
   "metadata": {},
   "outputs": [],
   "source": []
  }
 ],
 "metadata": {
  "kernelspec": {
   "display_name": "rudra_pl",
   "language": "python",
   "name": "python3"
  },
  "language_info": {
   "codemirror_mode": {
    "name": "ipython",
    "version": 3
   },
   "file_extension": ".py",
   "mimetype": "text/x-python",
   "name": "python",
   "nbconvert_exporter": "python",
   "pygments_lexer": "ipython3",
   "version": "3.12.8"
  }
 },
 "nbformat": 4,
 "nbformat_minor": 5
}
